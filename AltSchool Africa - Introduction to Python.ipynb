{
 "cells": [
  {
   "cell_type": "code",
   "execution_count": 2,
   "id": "423d4bb9",
   "metadata": {},
   "outputs": [
    {
     "name": "stdout",
     "output_type": "stream",
     "text": [
      "Hello World!\n"
     ]
    }
   ],
   "source": [
    "var = 'Hello World!'\n",
    "print(var)"
   ]
  },
  {
   "cell_type": "markdown",
   "id": "9c148dc9",
   "metadata": {},
   "source": [
    "Name Errors"
   ]
  },
  {
   "cell_type": "code",
   "execution_count": 6,
   "id": "971f8260",
   "metadata": {},
   "outputs": [
    {
     "name": "stdout",
     "output_type": "stream",
     "text": [
      "Hello World\n"
     ]
    }
   ],
   "source": [
    "var1 = 'Hello World'\n",
    "print (var1)"
   ]
  },
  {
   "cell_type": "code",
   "execution_count": 4,
   "id": "41c04b98",
   "metadata": {},
   "outputs": [
    {
     "ename": "NameError",
     "evalue": "name 'var11' is not defined",
     "output_type": "error",
     "traceback": [
      "\u001b[1;31m---------------------------------------------------------------------------\u001b[0m",
      "\u001b[1;31mNameError\u001b[0m                                 Traceback (most recent call last)",
      "Cell \u001b[1;32mIn[4], line 2\u001b[0m\n\u001b[0;32m      1\u001b[0m \u001b[38;5;66;03m# Error\u001b[39;00m\n\u001b[1;32m----> 2\u001b[0m \u001b[38;5;28mprint\u001b[39m(var11)\n",
      "\u001b[1;31mNameError\u001b[0m: name 'var11' is not defined"
     ]
    }
   ],
   "source": [
    "# Error\n",
    "print(var11)"
   ]
  },
  {
   "cell_type": "code",
   "execution_count": null,
   "id": "3f215983",
   "metadata": {},
   "outputs": [],
   "source": [
    "# Labelling with Intuition\n",
    "a_t = 23"
   ]
  },
  {
   "cell_type": "code",
   "execution_count": 5,
   "id": "9f1322c9",
   "metadata": {},
   "outputs": [
    {
     "name": "stdout",
     "output_type": "stream",
     "text": [
      "23\n"
     ]
    }
   ],
   "source": [
    "# Intuitive Labelling\n",
    "age_teens = 23\n",
    "print(age_teens)z"
   ]
  },
  {
   "cell_type": "markdown",
   "id": "75ea7320",
   "metadata": {},
   "source": [
    "### Strings"
   ]
  },
  {
   "cell_type": "code",
   "execution_count": 7,
   "id": "3654c48a",
   "metadata": {},
   "outputs": [],
   "source": [
    "# Comments\n",
    "var2 = 'Learning'"
   ]
  },
  {
   "cell_type": "code",
   "execution_count": 8,
   "id": "64015494",
   "metadata": {},
   "outputs": [],
   "source": [
    "var3 = 'Learning Introduction to Python'"
   ]
  },
  {
   "cell_type": "code",
   "execution_count": 9,
   "id": "947c453d",
   "metadata": {},
   "outputs": [
    {
     "name": "stdout",
     "output_type": "stream",
     "text": [
      "Learning\n"
     ]
    }
   ],
   "source": [
    "print(var2)"
   ]
  },
  {
   "cell_type": "code",
   "execution_count": 10,
   "id": "373819ce",
   "metadata": {},
   "outputs": [
    {
     "name": "stdout",
     "output_type": "stream",
     "text": [
      "Learning Introduction to Python\n"
     ]
    }
   ],
   "source": [
    "print(var3)"
   ]
  },
  {
   "cell_type": "code",
   "execution_count": 11,
   "id": "eb676d76",
   "metadata": {},
   "outputs": [],
   "source": [
    "# Create a variable with double quotes\n",
    "var4 =\"Learning a new language\""
   ]
  },
  {
   "cell_type": "code",
   "execution_count": 12,
   "id": "72a34829",
   "metadata": {},
   "outputs": [
    {
     "ename": "SyntaxError",
     "evalue": "unterminated string literal (detected at line 2) (1936221255.py, line 2)",
     "output_type": "error",
     "traceback": [
      "\u001b[1;36m  Cell \u001b[1;32mIn[12], line 2\u001b[1;36m\u001b[0m\n\u001b[1;33m    var5 = 'TalentQL's learning Series'\u001b[0m\n\u001b[1;37m                                      ^\u001b[0m\n\u001b[1;31mSyntaxError\u001b[0m\u001b[1;31m:\u001b[0m unterminated string literal (detected at line 2)\n"
     ]
    }
   ],
   "source": [
    "# Apostrophe is introduced\n",
    "var5 = 'TalentQL's learning Series'"
   ]
  },
  {
   "cell_type": "code",
   "execution_count": 13,
   "id": "8f8c2e86",
   "metadata": {},
   "outputs": [],
   "source": [
    "var5 = \"TalentQL's learning Series\""
   ]
  },
  {
   "cell_type": "code",
   "execution_count": 14,
   "id": "98ad9533",
   "metadata": {},
   "outputs": [
    {
     "name": "stdout",
     "output_type": "stream",
     "text": [
      "TalentQL's learning Series\n"
     ]
    }
   ],
   "source": [
    "# Introduce a method\n",
    "print(var5)"
   ]
  },
  {
   "cell_type": "code",
   "execution_count": 18,
   "id": "48d152e4",
   "metadata": {},
   "outputs": [
    {
     "name": "stdout",
     "output_type": "stream",
     "text": [
      "TALENTQL'S LEARNING SERIES\n"
     ]
    }
   ],
   "source": [
    "print(var5.upper())"
   ]
  },
  {
   "cell_type": "markdown",
   "id": "c2bd9f0b",
   "metadata": {},
   "source": [
    "List"
   ]
  },
  {
   "cell_type": "code",
   "execution_count": 19,
   "id": "226c3427",
   "metadata": {},
   "outputs": [
    {
     "data": {
      "text/plain": [
       "['string']"
      ]
     },
     "execution_count": 19,
     "metadata": {},
     "output_type": "execute_result"
    }
   ],
   "source": [
    "# Create a list\n",
    "lst = ['string']\n",
    "lst"
   ]
  },
  {
   "cell_type": "code",
   "execution_count": 20,
   "id": "cfb19a75",
   "metadata": {},
   "outputs": [],
   "source": [
    "#List with different data types\n",
    "lst = ['String', True, 34]"
   ]
  },
  {
   "cell_type": "code",
   "execution_count": 21,
   "id": "d13aac0b",
   "metadata": {},
   "outputs": [],
   "source": [
    "#Initialize with a list function\n",
    "lst1 = list()"
   ]
  },
  {
   "cell_type": "code",
   "execution_count": 22,
   "id": "ab7d7584",
   "metadata": {},
   "outputs": [
    {
     "data": {
      "text/plain": [
       "[]"
      ]
     },
     "execution_count": 22,
     "metadata": {},
     "output_type": "execute_result"
    }
   ],
   "source": [
    "lst1"
   ]
  },
  {
   "cell_type": "code",
   "execution_count": 23,
   "id": "8f8eca82",
   "metadata": {},
   "outputs": [
    {
     "data": {
      "text/plain": [
       "0"
      ]
     },
     "execution_count": 23,
     "metadata": {},
     "output_type": "execute_result"
    }
   ],
   "source": [
    "# Access a list\n",
    "#Len function\n",
    "len(lst1)"
   ]
  },
  {
   "cell_type": "code",
   "execution_count": 24,
   "id": "b07b1bf3",
   "metadata": {},
   "outputs": [
    {
     "data": {
      "text/plain": [
       "3"
      ]
     },
     "execution_count": 24,
     "metadata": {},
     "output_type": "execute_result"
    }
   ],
   "source": [
    "len(lst)"
   ]
  },
  {
   "cell_type": "code",
   "execution_count": 25,
   "id": "62f04140",
   "metadata": {},
   "outputs": [
    {
     "ename": "IndexError",
     "evalue": "list index out of range",
     "output_type": "error",
     "traceback": [
      "\u001b[1;31m---------------------------------------------------------------------------\u001b[0m",
      "\u001b[1;31mIndexError\u001b[0m                                Traceback (most recent call last)",
      "Cell \u001b[1;32mIn[25], line 1\u001b[0m\n\u001b[1;32m----> 1\u001b[0m lst1[\u001b[38;5;241m0\u001b[39m]\n",
      "\u001b[1;31mIndexError\u001b[0m: list index out of range"
     ]
    }
   ],
   "source": [
    "# it has an index error because i indexed an empty list\n",
    "lst1[0]"
   ]
  },
  {
   "cell_type": "code",
   "execution_count": 26,
   "id": "d3b4a30b",
   "metadata": {},
   "outputs": [
    {
     "data": {
      "text/plain": [
       "'String'"
      ]
     },
     "execution_count": 26,
     "metadata": {},
     "output_type": "execute_result"
    }
   ],
   "source": [
    "lst[0]"
   ]
  },
  {
   "cell_type": "markdown",
   "id": "28ae8756",
   "metadata": {},
   "source": [
    "### Modify Elements"
   ]
  },
  {
   "cell_type": "code",
   "execution_count": 27,
   "id": "4122feea",
   "metadata": {},
   "outputs": [],
   "source": [
    "# Create a new list\n",
    "lst2 = ['John','Sam', 'Tolu', 'Jerry', 'Ada', 'Sultan']"
   ]
  },
  {
   "cell_type": "code",
   "execution_count": 29,
   "id": "2fcd9fe6",
   "metadata": {},
   "outputs": [],
   "source": [
    "# Add an element\n",
    "lst2[0] = 'Pablo'"
   ]
  },
  {
   "cell_type": "code",
   "execution_count": 30,
   "id": "d83b10a5",
   "metadata": {},
   "outputs": [
    {
     "data": {
      "text/plain": [
       "['Pablo', 'Sam', 'Tolu', 'Jerry', 'Ada', 'Sultan']"
      ]
     },
     "execution_count": 30,
     "metadata": {},
     "output_type": "execute_result"
    }
   ],
   "source": [
    "lst2"
   ]
  },
  {
   "cell_type": "code",
   "execution_count": 32,
   "id": "1f229458",
   "metadata": {},
   "outputs": [],
   "source": [
    "# Insert into a list\n",
    "lst2.insert(2, 'Yusuf' )"
   ]
  },
  {
   "cell_type": "code",
   "execution_count": 33,
   "id": "f05c757b",
   "metadata": {
    "scrolled": true
   },
   "outputs": [
    {
     "data": {
      "text/plain": [
       "['Pablo', 'Sam', 'Yusuf', 'Tolu', 'Jerry', 'Ada', 'Sultan']"
      ]
     },
     "execution_count": 33,
     "metadata": {},
     "output_type": "execute_result"
    }
   ],
   "source": [
    "lst2"
   ]
  },
  {
   "cell_type": "code",
   "execution_count": 34,
   "id": "afa0f7a0",
   "metadata": {},
   "outputs": [],
   "source": [
    "# Add to a list - Append method\n",
    "lst2.append('Mudia')"
   ]
  },
  {
   "cell_type": "code",
   "execution_count": 35,
   "id": "7a7de5e0",
   "metadata": {},
   "outputs": [
    {
     "data": {
      "text/plain": [
       "['Pablo', 'Sam', 'Yusuf', 'Tolu', 'Jerry', 'Ada', 'Sultan', 'Mudia']"
      ]
     },
     "execution_count": 35,
     "metadata": {},
     "output_type": "execute_result"
    }
   ],
   "source": [
    "lst2"
   ]
  },
  {
   "cell_type": "code",
   "execution_count": 52,
   "id": "88a35067",
   "metadata": {},
   "outputs": [],
   "source": [
    "# Insert an element\n",
    "lst2.insert(0, 'Pablo')"
   ]
  },
  {
   "cell_type": "code",
   "execution_count": 53,
   "id": "c13ee593",
   "metadata": {},
   "outputs": [
    {
     "data": {
      "text/plain": [
       "['Pablo', 'Sam', 'Yusuf', 'Tolu', 'Jerry', 'Ada', 'Sultan', 'Mudia']"
      ]
     },
     "execution_count": 53,
     "metadata": {},
     "output_type": "execute_result"
    }
   ],
   "source": [
    "lst2"
   ]
  },
  {
   "cell_type": "code",
   "execution_count": 54,
   "id": "e9846b04",
   "metadata": {},
   "outputs": [],
   "source": [
    "# Remove an element\n",
    "lst2.remove('Pablo')"
   ]
  },
  {
   "cell_type": "code",
   "execution_count": 55,
   "id": "b53e13fa",
   "metadata": {},
   "outputs": [
    {
     "data": {
      "text/plain": [
       "['Sam', 'Yusuf', 'Tolu', 'Jerry', 'Ada', 'Sultan', 'Mudia']"
      ]
     },
     "execution_count": 55,
     "metadata": {},
     "output_type": "execute_result"
    }
   ],
   "source": [
    "lst2"
   ]
  },
  {
   "cell_type": "code",
   "execution_count": 56,
   "id": "9c66780e",
   "metadata": {},
   "outputs": [],
   "source": [
    "# Pop function\n",
    "pop_lst = lst2.pop()"
   ]
  },
  {
   "cell_type": "code",
   "execution_count": 57,
   "id": "42c9d6f9",
   "metadata": {},
   "outputs": [
    {
     "data": {
      "text/plain": [
       "['Sam', 'Yusuf', 'Tolu', 'Jerry', 'Ada', 'Sultan']"
      ]
     },
     "execution_count": 57,
     "metadata": {},
     "output_type": "execute_result"
    }
   ],
   "source": [
    "lst2"
   ]
  },
  {
   "cell_type": "code",
   "execution_count": 58,
   "id": "43dec969",
   "metadata": {},
   "outputs": [
    {
     "data": {
      "text/plain": [
       "'Mudia'"
      ]
     },
     "execution_count": 58,
     "metadata": {},
     "output_type": "execute_result"
    }
   ],
   "source": [
    "pop_lst"
   ]
  },
  {
   "cell_type": "code",
   "execution_count": 59,
   "id": "47a63408",
   "metadata": {},
   "outputs": [],
   "source": [
    "# Pop with an index\n",
    "Pop_Sam = lst2.pop(0)"
   ]
  },
  {
   "cell_type": "code",
   "execution_count": 61,
   "id": "d6f199d2",
   "metadata": {},
   "outputs": [
    {
     "data": {
      "text/plain": [
       "'Sam'"
      ]
     },
     "execution_count": 61,
     "metadata": {},
     "output_type": "execute_result"
    }
   ],
   "source": [
    "Pop_Sam"
   ]
  }
 ],
 "metadata": {
  "kernelspec": {
   "display_name": "Python 3 (ipykernel)",
   "language": "python",
   "name": "python3"
  },
  "language_info": {
   "codemirror_mode": {
    "name": "ipython",
    "version": 3
   },
   "file_extension": ".py",
   "mimetype": "text/x-python",
   "name": "python",
   "nbconvert_exporter": "python",
   "pygments_lexer": "ipython3",
   "version": "3.11.5"
  }
 },
 "nbformat": 4,
 "nbformat_minor": 5
}

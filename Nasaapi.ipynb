{
 "cells": [
  {
   "cell_type": "code",
   "execution_count": 8,
   "id": "6989f101",
   "metadata": {},
   "outputs": [
    {
     "name": "stdout",
     "output_type": "stream",
     "text": [
      "Requirement already satisfied: requests in c:\\users\\hi\\anaconda3\\lib\\site-packages (2.31.0)\n",
      "Requirement already satisfied: charset-normalizer<4,>=2 in c:\\users\\hi\\anaconda3\\lib\\site-packages (from requests) (2.0.4)\n",
      "Requirement already satisfied: idna<4,>=2.5 in c:\\users\\hi\\anaconda3\\lib\\site-packages (from requests) (3.4)\n",
      "Requirement already satisfied: urllib3<3,>=1.21.1 in c:\\users\\hi\\anaconda3\\lib\\site-packages (from requests) (1.26.16)\n",
      "Requirement already satisfied: certifi>=2017.4.17 in c:\\users\\hi\\anaconda3\\lib\\site-packages (from requests) (2023.11.17)\n",
      "Collecting jsons\n",
      "  Obtaining dependency information for jsons from https://files.pythonhosted.org/packages/9a/22/e18585ccbf9f8c42f8c26435df0e551a924aae33488227eb686876d0bffd/jsons-1.6.3-py3-none-any.whl.metadata\n",
      "  Downloading jsons-1.6.3-py3-none-any.whl.metadata (9.3 kB)\n",
      "Collecting typish>=1.9.2 (from jsons)\n",
      "  Obtaining dependency information for typish>=1.9.2 from https://files.pythonhosted.org/packages/9d/d6/3f56c9c0c12adf61dfcf4ed5c8ffd2c431db8dd85592067a57e8e1968565/typish-1.9.3-py3-none-any.whl.metadata\n",
      "  Downloading typish-1.9.3-py3-none-any.whl.metadata (7.2 kB)\n",
      "Downloading jsons-1.6.3-py3-none-any.whl (60 kB)\n",
      "   ---------------------------------------- 0.0/60.7 kB ? eta -:--:--\n",
      "   ---------------------------------------- 0.0/60.7 kB ? eta -:--:--\n",
      "   ------ --------------------------------- 10.2/60.7 kB ? eta -:--:--\n",
      "   ------ --------------------------------- 10.2/60.7 kB ? eta -:--:--\n",
      "   ------ --------------------------------- 10.2/60.7 kB ? eta -:--:--\n",
      "   ------ --------------------------------- 10.2/60.7 kB ? eta -:--:--\n",
      "   ------ --------------------------------- 10.2/60.7 kB ? eta -:--:--\n",
      "   --------------------------------- ------ 51.2/60.7 kB 138.4 kB/s eta 0:00:01\n",
      "   --------------------------------- ------ 51.2/60.7 kB 138.4 kB/s eta 0:00:01\n",
      "   ---------------------------------------- 60.7/60.7 kB 134.6 kB/s eta 0:00:00\n",
      "Downloading typish-1.9.3-py3-none-any.whl (45 kB)\n",
      "   ---------------------------------------- 0.0/45.1 kB ? eta -:--:--\n",
      "   ------------------------------------ --- 41.0/45.1 kB 1.9 MB/s eta 0:00:01\n",
      "   ---------------------------------------- 45.1/45.1 kB 552.7 kB/s eta 0:00:00\n",
      "Installing collected packages: typish, jsons\n",
      "Successfully installed jsons-1.6.3 typish-1.9.3\n"
     ]
    }
   ],
   "source": [
    "!pip install requests\n",
    "!pip install jsons"
   ]
  },
  {
   "cell_type": "code",
   "execution_count": 5,
   "id": "a70fa614",
   "metadata": {},
   "outputs": [],
   "source": [
    "API_KEY = ('VsbAngzZIKbfDV5hqrr5Gikzb9OT100bgxPja7Ba')"
   ]
  },
  {
   "cell_type": "code",
   "execution_count": 6,
   "id": "c4842da8",
   "metadata": {},
   "outputs": [],
   "source": [
    "url = ('https://nasa.api.gov/planetary/apod')"
   ]
  },
  {
   "cell_type": "code",
   "execution_count": 7,
   "id": "51759251",
   "metadata": {},
   "outputs": [],
   "source": [
    "params = {\n",
    "    'date': '2024-02-29',\n",
    "    'hd': 'True',\n",
    "    'api_key': 'API_KEY'\n",
    "}"
   ]
  },
  {
   "cell_type": "code",
   "execution_count": null,
   "id": "e291ad5b",
   "metadata": {},
   "outputs": [],
   "source": [
    "response = requests.get"
   ]
  },
  {
   "cell_type": "code",
   "execution_count": null,
   "id": "066fe5df",
   "metadata": {},
   "outputs": [],
   "source": []
  },
  {
   "cell_type": "code",
   "execution_count": null,
   "id": "37181a46",
   "metadata": {},
   "outputs": [],
   "source": []
  }
 ],
 "metadata": {
  "kernelspec": {
   "display_name": "Python 3 (ipykernel)",
   "language": "python",
   "name": "python3"
  },
  "language_info": {
   "codemirror_mode": {
    "name": "ipython",
    "version": 3
   },
   "file_extension": ".py",
   "mimetype": "text/x-python",
   "name": "python",
   "nbconvert_exporter": "python",
   "pygments_lexer": "ipython3",
   "version": "3.11.5"
  }
 },
 "nbformat": 4,
 "nbformat_minor": 5
}

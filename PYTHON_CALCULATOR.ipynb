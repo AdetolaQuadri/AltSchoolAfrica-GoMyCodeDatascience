{
  "nbformat": 4,
  "nbformat_minor": 0,
  "metadata": {
    "colab": {
      "provenance": [],
      "authorship_tag": "ABX9TyN7Nd6m4dj/IeXlB+7TTEmw",
      "include_colab_link": true
    },
    "kernelspec": {
      "name": "python3",
      "display_name": "Python 3"
    },
    "language_info": {
      "name": "python"
    }
  },
  "cells": [
    {
      "cell_type": "markdown",
      "metadata": {
        "id": "view-in-github",
        "colab_type": "text"
      },
      "source": [
        "<a href=\"https://colab.research.google.com/github/AdetolaQuadri/AltSchoolAfrica-GoMyCodeDatascience/blob/main/PYTHON_CALCULATOR.ipynb\" target=\"_parent\"><img src=\"https://colab.research.google.com/assets/colab-badge.svg\" alt=\"Open In Colab\"/></a>"
      ]
    },
    {
      "cell_type": "code",
      "execution_count": null,
      "metadata": {
        "colab": {
          "base_uri": "https://localhost:8080/"
        },
        "id": "IAD01_gHMVQR",
        "outputId": "bbe9774a-b92f-4ada-baa2-4ddce875af47"
      },
      "outputs": [
        {
          "output_type": "stream",
          "name": "stdout",
          "text": [
            "Enter an operator (+ - * /): *\n",
            "Enter the first number: 25.6\n",
            "Enter the second number: 13.2\n",
            "337.92\n"
          ]
        }
      ],
      "source": [
        "\n",
        "operator = input(\"Enter an operator (+ - * /): \")\n",
        "num1 = float(input(\"Enter the first number: \"))\n",
        "num2 = float(input(\"Enter the second number: \"))\n",
        "\n",
        "if operator == \"+\":\n",
        "  result =  num1 + num2\n",
        "  print(round(result, 3))\n",
        "elif operator == \"-\":\n",
        "  result = num1 - num2\n",
        "  print(round(result, 3))\n",
        "elif operator == \"*\":\n",
        "  result = num1 * num2\n",
        "  print(round(result, 3))\n",
        "elif operator == \"/\":\n",
        "  result = num1 / num2\n",
        "  print(round(result, 3))\n",
        "else:\n",
        "  print(f\"{operator} is not a valid operator\")"
      ]
    },
    {
      "cell_type": "code",
      "source": [],
      "metadata": {
        "id": "ptJNYtCKROBF"
      },
      "execution_count": null,
      "outputs": []
    },
    {
      "cell_type": "code",
      "source": [
        "operator = input(\"Enter an operator (+ - * /):\")\n",
        "num1 = float(input(\"Enter the first number: \"))\n",
        "num2 = float(input(\"Enter the second number: \"))\n",
        "\n",
        "if operator == \"+\":\n",
        "  print(num1, \"+\", num2, \"=\", round((num1+num2),3))\n",
        "elif operator == \"-\":\n",
        "  print(num1, \"-\", num2, \"=\", (num1-num2))\n",
        "elif operator == \"*\":\n",
        "  print(num1, \"*\", num2, \"=\", (num1*num2))\n",
        "elif operator == \"/\":\n",
        "  print(num1, \"/\", num2, \"=\", round((num1/num2), 3))\n",
        "else:\n",
        "  print(f\"{operator} is not a valid operator\")"
      ],
      "metadata": {
        "colab": {
          "base_uri": "https://localhost:8080/"
        },
        "id": "b5BkO_iqRODB",
        "outputId": "bfe651bb-34fa-4d79-f280-e9dc413bc73d"
      },
      "execution_count": null,
      "outputs": [
        {
          "output_type": "stream",
          "name": "stdout",
          "text": [
            "Enter an operator (+ - * /):/\n",
            "Enter the first number: 7\n",
            "Enter the second number: 6\n",
            "7.0 / 6.0 = 1.167\n"
          ]
        }
      ]
    },
    {
      "cell_type": "code",
      "source": [],
      "metadata": {
        "id": "KCE7V61oP9Du"
      },
      "execution_count": null,
      "outputs": []
    },
    {
      "cell_type": "code",
      "source": [],
      "metadata": {
        "id": "rp3zUoABROHB"
      },
      "execution_count": null,
      "outputs": []
    },
    {
      "cell_type": "code",
      "source": [],
      "metadata": {
        "id": "9_1qP_zxROOo"
      },
      "execution_count": null,
      "outputs": []
    },
    {
      "cell_type": "code",
      "source": [],
      "metadata": {
        "id": "ig9euF-HRORm"
      },
      "execution_count": null,
      "outputs": []
    },
    {
      "cell_type": "code",
      "source": [],
      "metadata": {
        "id": "rqrfFtcvM_vb"
      },
      "execution_count": null,
      "outputs": []
    }
  ]
}
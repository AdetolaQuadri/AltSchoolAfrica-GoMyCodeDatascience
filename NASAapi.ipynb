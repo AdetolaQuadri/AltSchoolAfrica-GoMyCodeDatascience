{
  "nbformat": 4,
  "nbformat_minor": 0,
  "metadata": {
    "colab": {
      "provenance": [],
      "authorship_tag": "ABX9TyO327+1rEFjz+gR8z3ntxx0",
      "include_colab_link": true
    },
    "kernelspec": {
      "name": "python3",
      "display_name": "Python 3"
    },
    "language_info": {
      "name": "python"
    }
  },
  "cells": [
    {
      "cell_type": "markdown",
      "metadata": {
        "id": "view-in-github",
        "colab_type": "text"
      },
      "source": [
        "<a href=\"https://colab.research.google.com/github/AdetolaQuadri/AltSchoolAfrica-GoMyCodeDatascience/blob/main/NASAapi.ipynb\" target=\"_parent\"><img src=\"https://colab.research.google.com/assets/colab-badge.svg\" alt=\"Open In Colab\"/></a>"
      ]
    },
    {
      "cell_type": "code",
      "execution_count": null,
      "metadata": {
        "colab": {
          "base_uri": "https://localhost:8080/"
        },
        "id": "dUsrmrW-iSdl",
        "outputId": "d18fe4bf-c2c7-4423-e6c9-8a8e67bfc37d"
      },
      "outputs": [
        {
          "output_type": "stream",
          "name": "stdout",
          "text": [
            "Requirement already satisfied: requests in /usr/local/lib/python3.10/dist-packages (2.31.0)\n",
            "Requirement already satisfied: charset-normalizer<4,>=2 in /usr/local/lib/python3.10/dist-packages (from requests) (3.3.2)\n",
            "Requirement already satisfied: idna<4,>=2.5 in /usr/local/lib/python3.10/dist-packages (from requests) (3.6)\n",
            "Requirement already satisfied: urllib3<3,>=1.21.1 in /usr/local/lib/python3.10/dist-packages (from requests) (2.0.7)\n",
            "Requirement already satisfied: certifi>=2017.4.17 in /usr/local/lib/python3.10/dist-packages (from requests) (2024.2.2)\n"
          ]
        }
      ],
      "source": [
        "!pip install requests\n"
      ]
    },
    {
      "cell_type": "code",
      "source": [
        "import requests\n",
        "import json"
      ],
      "metadata": {
        "id": "LZEWyGvxPLfc"
      },
      "execution_count": null,
      "outputs": []
    },
    {
      "cell_type": "code",
      "source": [
        "API_KEY = ('get you api key from nasa using www.api.nasa.com')"
      ],
      "metadata": {
        "id": "AvrH3WL4igLt"
      },
      "execution_count": null,
      "outputs": []
    },
    {
      "cell_type": "code",
      "source": [
        "url = 'https://api.nasa.gov/planetary/apod'"
      ],
      "metadata": {
        "id": "li4Q9UJJigNL"
      },
      "execution_count": null,
      "outputs": []
    },
    {
      "cell_type": "code",
      "source": [
        "params = {\n",
        "    'date': '2022-01-29',\n",
        "    'hd': 'True',\n",
        "    'api_key': API_KEY\n",
        "}"
      ],
      "metadata": {
        "id": "KYgJ4ApOigQU"
      },
      "execution_count": null,
      "outputs": []
    },
    {
      "cell_type": "code",
      "source": [
        "response = requests.get(url,params=params)\n",
        "json.loads(response.text)"
      ],
      "metadata": {
        "colab": {
          "base_uri": "https://localhost:8080/"
        },
        "id": "2iYATRQjigRp",
        "outputId": "71813faf-03fd-4485-a89f-10a9f25c80d1"
      },
      "execution_count": null,
      "outputs": [
        {
          "output_type": "execute_result",
          "data": {
            "text/plain": [
              "{'copyright': 'Marco Lorenzi',\n",
              " 'date': '2022-01-29',\n",
              " 'explanation': 'Named for the southern constellation toward which most of its galaxies can be found, the Fornax Cluster is one of the closest clusters of galaxies. About 62 million light-years away, it is almost 20 times more distant than our neighboring Andromeda Galaxy, and only about 10 percent farther than the better known and more populated Virgo Galaxy Cluster. Seen across this two degree wide field-of-view, almost every yellowish splotch on the image is an elliptical galaxy in the Fornax cluster. Elliptical galaxies NGC 1399 and NGC 1404 are the dominant, bright cluster members toward the upper left (but not the spiky foreground stars). A standout barred spiral galaxy NGC 1365 is visible on the lower right as a prominent Fornax cluster member.',\n",
              " 'hdurl': 'https://apod.nasa.gov/apod/image/2201/FornaxC1_FB.jpg',\n",
              " 'media_type': 'image',\n",
              " 'service_version': 'v1',\n",
              " 'title': 'The Fornax Cluster of Galaxies',\n",
              " 'url': 'https://apod.nasa.gov/apod/image/2201/FornaxC1_FB1024.jpg'}"
            ]
          },
          "metadata": {},
          "execution_count": 51
        }
      ]
    }
  ]
}